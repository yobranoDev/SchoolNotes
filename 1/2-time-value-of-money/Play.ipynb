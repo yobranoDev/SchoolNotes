{
 "cells": [
  {
   "cell_type": "markdown",
   "metadata": {},
   "source": [
    "# Accumlation\n"
   ]
  },
  {
   "cell_type": "markdown",
   "metadata": {},
   "source": [
    "* Formula for compound interest ($i \\rightarrow $ Interest rate )\n",
    "#### $$ c(1+i)^n $$\n",
    "* Formular for simple interest ($i \\rightarrow $ Interest rate )\n",
    "#### $$ c(1 + in) $$\n"
   ]
  },
  {
   "cell_type": "code",
   "execution_count": 12,
   "metadata": {},
   "outputs": [],
   "source": [
    "def compound_acc(i, n, principal=1):\n",
    "    return principal*(1 + i)**n"
   ]
  },
  {
   "cell_type": "code",
   "execution_count": 13,
   "metadata": {},
   "outputs": [],
   "source": [
    "def simple_acc(i, n, principal=1):\n",
    "    return  principal*(1 + i*n)"
   ]
  },
  {
   "cell_type": "markdown",
   "metadata": {},
   "source": [
    "### Demonstartions"
   ]
  },
  {
   "cell_type": "code",
   "execution_count": 14,
   "metadata": {},
   "outputs": [
    {
     "name": "stdout",
     "output_type": "stream",
     "text": [
      "Simple interest: 200.0 \n",
      "Compound interest: 225.0 \n"
     ]
    }
   ],
   "source": [
    "print(\n",
    "    f\"Simple interest: {simple_acc(0.5, 2, principal=100)} \",\n",
    "    f\"Compound interest: {compound_acc(0.5, 2, principal=100)} \",\n",
    "\n",
    "    sep=\"\\n\"\n",
    "    )"
   ]
  },
  {
   "cell_type": "markdown",
   "metadata": {},
   "source": [
    "# Convertions"
   ]
  },
  {
   "cell_type": "markdown",
   "metadata": {},
   "source": [
    "* Compound interest to discounting factor. ($v \\rightarrow $ Discount factor )\n",
    "#### $$ v = \\frac{1}{1+i}  $$\n",
    "\n",
    "* Discounting factor and Discounting rate\n",
    "#### $$  d = 1 - v  $$\n",
    "#### $$  d = iv  $$\n",
    "#### $$  v = 1 - d  $$"
   ]
  },
  {
   "cell_type": "code",
   "execution_count": 32,
   "metadata": {},
   "outputs": [],
   "source": [
    "def compound_int_to_discount_fac(i, n= 1):\n",
    "    return ((1+i)**-1)**n\n",
    "def discount_rat_to_discount_fac(d):\n",
    "    return 1-d"
   ]
  },
  {
   "cell_type": "code",
   "execution_count": 33,
   "metadata": {},
   "outputs": [],
   "source": [
    "def discount_fac_to_discount_rat(v, n=1):\n",
    "    return  1 - v**n\n",
    "\n",
    "\n",
    "def compound_int_to_discount_rat(i, n=1):\n",
    "    return (i * compound_int_to_discount_fac(i))**n"
   ]
  },
  {
   "cell_type": "code",
   "execution_count": 38,
   "metadata": {},
   "outputs": [],
   "source": [
    "import math\n",
    "# To simple interest\n",
    "def compound_int_to_simple_int(i, n=1):\n",
    "    return (compound_acc(i, n) - 1)/n\n",
    "\n",
    "# To compound interest\n",
    "def simple_int_to_compound_int(i, n=1):\n",
    "    return n*math.log(simple_acc(i, n))-1"
   ]
  },
  {
   "cell_type": "markdown",
   "metadata": {},
   "source": [
    "### Demonstrations"
   ]
  },
  {
   "cell_type": "code",
   "execution_count": 37,
   "metadata": {},
   "outputs": [
    {
     "name": "stdout",
     "output_type": "stream",
     "text": [
      "Arithmetics\n",
      "Simple discount: 90.0 \n",
      "Compound discount: 90.25 \n",
      "\n",
      "Convetions\n",
      "5% interst to discount factor: 0.95238 \n",
      "5% discount rate to discount factor: 0.95 \n",
      "95% discount factor to discount rate: 0.05 \n",
      "5% interst to discount rate: 0.047619 \n"
     ]
    }
   ],
   "source": [
    "print(\n",
    "    \"Arithmetics\",\n",
    "    f\"Simple discount: {simple_dis(0.05, 2, principal=100)} \",\n",
    "    f\"Compound discount: {compound_dis(0.05, 2, principal=100)} \",\n",
    "    \"\",\n",
    "    \"Convetions\",\n",
    "    f\"5% interst to discount factor: {compound_int_to_discount_fac(0.05):.5} \",\n",
    "    f\"5% discount rate to discount factor: {discount_rat_to_discount_fac(0.05):.5} \",\n",
    "    f\"95% discount factor to discount rate: {discount_fac_to_discount_rat(0.95):.5} \",\n",
    "    f\"5% interst to discount rate: {compound_int_to_discount_rat(0.05):.5} \",\n",
    "    \n",
    "    sep=\"\\n\"\n",
    ")\n"
   ]
  },
  {
   "cell_type": "markdown",
   "metadata": {},
   "source": [
    "# Discounting"
   ]
  },
  {
   "cell_type": "markdown",
   "metadata": {},
   "source": [
    "* Formula for compound discounting ($d \\rightarrow $ Discount rate )\n",
    "#### $$ c(1-d)^n $$\n",
    "\n",
    "* Formula for simple discounting ($d \\rightarrow $ Discount rate )\n",
    "#### $$ c(1-dn) $$\n",
    "\n",
    "* Formula for present value\n",
    "#### $$ c\\Big(\\frac{1}{1+i}\\Big)^n $$"
   ]
  },
  {
   "cell_type": "code",
   "execution_count": 16,
   "metadata": {},
   "outputs": [],
   "source": [
    "def compound_dis(d, n, principal=1):\n",
    "    return principal*(1-d)**n"
   ]
  },
  {
   "cell_type": "code",
   "execution_count": 17,
   "metadata": {},
   "outputs": [],
   "source": [
    "def simple_dis(d, n, principal=1):\n",
    "    return  principal*(1 - d*n)"
   ]
  },
  {
   "cell_type": "code",
   "execution_count": null,
   "metadata": {},
   "outputs": [],
   "source": [
    "def present_val(i, n=1, principal=1):\n",
    "    return principal*(compound_int_to_discount_fac(i, n=n))"
   ]
  }
 ],
 "metadata": {
  "interpreter": {
   "hash": "02a67ff5ecc90a095175fdab06f5452444ff028ade5ce6acbf4a9116e6ff7839"
  },
  "kernelspec": {
   "display_name": "Python 3.8.3 64-bit ('base': conda)",
   "language": "python",
   "name": "python3"
  },
  "language_info": {
   "codemirror_mode": {
    "name": "ipython",
    "version": 3
   },
   "file_extension": ".py",
   "mimetype": "text/x-python",
   "name": "python",
   "nbconvert_exporter": "python",
   "pygments_lexer": "ipython3",
   "version": "3.8.3"
  },
  "orig_nbformat": 4
 },
 "nbformat": 4,
 "nbformat_minor": 2
}
