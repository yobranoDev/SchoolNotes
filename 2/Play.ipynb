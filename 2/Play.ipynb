{
 "cells": [
  {
   "cell_type": "code",
   "execution_count": 1,
   "metadata": {},
   "outputs": [],
   "source": [
    "from Annuity import Annuity \n",
    "from InterestRates import Rate"
   ]
  },
  {
   "cell_type": "code",
   "execution_count": 12,
   "metadata": {},
   "outputs": [
    {
     "data": {
      "text/plain": [
       "2016.400692466463"
      ]
     },
     "execution_count": 12,
     "metadata": {},
     "output_type": "execute_result"
    }
   ],
   "source": [
    "r = Rate(0.035)\n",
    "an = Annuity(r, payment_mode= \"arrear\", time_span= 11, amt= 200 )    \n",
    "an.time_value(future= True)\n"
   ]
  },
  {
   "cell_type": "code",
   "execution_count": 6,
   "metadata": {},
   "outputs": [
    {
     "data": {
      "text/plain": [
       "1.2222222222222223"
      ]
     },
     "execution_count": 6,
     "metadata": {},
     "output_type": "execute_result"
    }
   ],
   "source": []
  },
  {
   "cell_type": "code",
   "execution_count": 4,
   "metadata": {},
   "outputs": [
    {
     "data": {
      "text/plain": [
       "12.146912472822788"
      ]
     },
     "execution_count": 4,
     "metadata": {},
     "output_type": "execute_result"
    }
   ],
   "source": [
    "(an.advance()-an.time_span* r.time_value_factor(n = an.time_span, discount= True)) / r.rate"
   ]
  },
  {
   "cell_type": "code",
   "execution_count": 16,
   "metadata": {},
   "outputs": [
    {
     "name": "stdout",
     "output_type": "stream",
     "text": [
      "break\n",
      "hello\n"
     ]
    }
   ],
   "source": [
    "a = True\n",
    "b = 2\n",
    "if a:\n",
    "    if b==1:\n",
    "        print(\"b is 1\")\n",
    "    elif b==2:\n",
    "        print(\"break\")\n",
    "        pass\n",
    "    print(\"hello\")"
   ]
  },
  {
   "cell_type": "code",
   "execution_count": 24,
   "metadata": {},
   "outputs": [
    {
     "name": "stdout",
     "output_type": "stream",
     "text": [
      "3\n"
     ]
    }
   ],
   "source": [
    "a = 2\n",
    "def main():\n",
    "    def change(): \n",
    "        global a\n",
    "        a = 3\n",
    "    return change()\n",
    "main()\n",
    "print(a)"
   ]
  },
  {
   "cell_type": "code",
   "execution_count": 14,
   "metadata": {},
   "outputs": [],
   "source": [
    "import pandas as pd\n",
    "import numpy as np"
   ]
  },
  {
   "cell_type": "markdown",
   "metadata": {},
   "source": [
    "# EBCT model 1"
   ]
  },
  {
   "cell_type": "code",
   "execution_count": 85,
   "metadata": {},
   "outputs": [],
   "source": [
    "claim_data = np.array([ [48, 53, 42, 50, 59], \n",
    "                        [64, 71, 64, 73, 70],\n",
    "                        [85, 54, 76, 65, 90],\n",
    "                        [44, 52, 69, 55, 71],\n",
    "                        ])\n",
    "N, n = claim_data.shape\n",
    "df = pd.DataFrame(claim_data, columns= [ f\"year-{i}\" for i in range(1, n + 1)])\n",
    "df[\"risks\"] = [i for i in range(1, N + 1)]\n",
    "df.set_index(\"risks\", inplace= True)\n"
   ]
  },
  {
   "cell_type": "code",
   "execution_count": 86,
   "metadata": {},
   "outputs": [
    {
     "data": {
      "text/html": [
       "<div>\n",
       "<style scoped>\n",
       "    .dataframe tbody tr th:only-of-type {\n",
       "        vertical-align: middle;\n",
       "    }\n",
       "\n",
       "    .dataframe tbody tr th {\n",
       "        vertical-align: top;\n",
       "    }\n",
       "\n",
       "    .dataframe thead th {\n",
       "        text-align: right;\n",
       "    }\n",
       "</style>\n",
       "<table border=\"1\" class=\"dataframe\">\n",
       "  <thead>\n",
       "    <tr style=\"text-align: right;\">\n",
       "      <th></th>\n",
       "      <th>year-1</th>\n",
       "      <th>year-2</th>\n",
       "      <th>year-3</th>\n",
       "      <th>year-4</th>\n",
       "      <th>year-5</th>\n",
       "      <th>credibility-premium</th>\n",
       "    </tr>\n",
       "    <tr>\n",
       "      <th>risks</th>\n",
       "      <th></th>\n",
       "      <th></th>\n",
       "      <th></th>\n",
       "      <th></th>\n",
       "      <th></th>\n",
       "      <th></th>\n",
       "    </tr>\n",
       "  </thead>\n",
       "  <tbody>\n",
       "    <tr>\n",
       "      <th>1</th>\n",
       "      <td>48</td>\n",
       "      <td>53</td>\n",
       "      <td>42</td>\n",
       "      <td>50</td>\n",
       "      <td>59</td>\n",
       "      <td>52.660686</td>\n",
       "    </tr>\n",
       "    <tr>\n",
       "      <th>2</th>\n",
       "      <td>64</td>\n",
       "      <td>71</td>\n",
       "      <td>64</td>\n",
       "      <td>73</td>\n",
       "      <td>70</td>\n",
       "      <td>67.365759</td>\n",
       "    </tr>\n",
       "    <tr>\n",
       "      <th>3</th>\n",
       "      <td>85</td>\n",
       "      <td>54</td>\n",
       "      <td>76</td>\n",
       "      <td>65</td>\n",
       "      <td>90</td>\n",
       "      <td>71.940671</td>\n",
       "    </tr>\n",
       "    <tr>\n",
       "      <th>4</th>\n",
       "      <td>44</td>\n",
       "      <td>52</td>\n",
       "      <td>69</td>\n",
       "      <td>55</td>\n",
       "      <td>71</td>\n",
       "      <td>59.032884</td>\n",
       "    </tr>\n",
       "  </tbody>\n",
       "</table>\n",
       "</div>"
      ],
      "text/plain": [
       "       year-1  year-2  year-3  year-4  year-5  credibility-premium\n",
       "risks                                                             \n",
       "1          48      53      42      50      59            52.660686\n",
       "2          64      71      64      73      70            67.365759\n",
       "3          85      54      76      65      90            71.940671\n",
       "4          44      52      69      55      71            59.032884"
      ]
     },
     "execution_count": 86,
     "metadata": {},
     "output_type": "execute_result"
    }
   ],
   "source": [
    "stats_df = pd.DataFrame()\n",
    "stats_df[\"risks\"] = df.index\n",
    "stats_df.set_index(\"risks\", inplace= True)\n",
    "\n",
    "claims =df[ [f\"year-{i}\" for i in range(1, 6)]].copy()\n",
    "stats_df[\"risk-mean\"] = claims.apply(np.mean, axis=1)\n",
    "stats_df[\"risk-var\"] = claims.apply(np.var, axis= 1, ddof= 1)\n",
    "\n",
    "X_bar = stats_df[\"risk-mean\"].mean()\n",
    "expected_var = stats_df[\"risk-var\"].mean()\n",
    "var_means = stats_df[\"risk-mean\"].var() - (1/n) * expected_var \n",
    "\n",
    "cred_factor = n/(n+ (expected_var/ var_means))\n",
    "df[\"credibility-premium\"] = (cred_factor * stats_df[\"risk-mean\"]) + ((1 - cred_factor) * X_bar)\n",
    "df"
   ]
  },
  {
   "cell_type": "code",
   "execution_count": 80,
   "metadata": {},
   "outputs": [
    {
     "data": {
      "text/plain": [
       "52.66068553857285"
      ]
     },
     "execution_count": 80,
     "metadata": {},
     "output_type": "execute_result"
    }
   ],
   "source": []
  },
  {
   "cell_type": "code",
   "execution_count": 88,
   "metadata": {},
   "outputs": [
    {
     "data": {
      "text/html": [
       "<div>\n",
       "<style scoped>\n",
       "    .dataframe tbody tr th:only-of-type {\n",
       "        vertical-align: middle;\n",
       "    }\n",
       "\n",
       "    .dataframe tbody tr th {\n",
       "        vertical-align: top;\n",
       "    }\n",
       "\n",
       "    .dataframe thead th {\n",
       "        text-align: right;\n",
       "    }\n",
       "</style>\n",
       "<table border=\"1\" class=\"dataframe\">\n",
       "  <thead>\n",
       "    <tr style=\"text-align: right;\">\n",
       "      <th></th>\n",
       "      <th>year-1</th>\n",
       "      <th>year-2</th>\n",
       "      <th>year-3</th>\n",
       "      <th>year-4</th>\n",
       "      <th>year-5</th>\n",
       "      <th>credibility-premium</th>\n",
       "    </tr>\n",
       "    <tr>\n",
       "      <th>risks</th>\n",
       "      <th></th>\n",
       "      <th></th>\n",
       "      <th></th>\n",
       "      <th></th>\n",
       "      <th></th>\n",
       "      <th></th>\n",
       "    </tr>\n",
       "  </thead>\n",
       "  <tbody>\n",
       "    <tr>\n",
       "      <th>1</th>\n",
       "      <td>48</td>\n",
       "      <td>53</td>\n",
       "      <td>42</td>\n",
       "      <td>50</td>\n",
       "      <td>59</td>\n",
       "      <td>52.660686</td>\n",
       "    </tr>\n",
       "    <tr>\n",
       "      <th>2</th>\n",
       "      <td>64</td>\n",
       "      <td>71</td>\n",
       "      <td>64</td>\n",
       "      <td>73</td>\n",
       "      <td>70</td>\n",
       "      <td>67.365759</td>\n",
       "    </tr>\n",
       "    <tr>\n",
       "      <th>3</th>\n",
       "      <td>85</td>\n",
       "      <td>54</td>\n",
       "      <td>76</td>\n",
       "      <td>65</td>\n",
       "      <td>90</td>\n",
       "      <td>71.940671</td>\n",
       "    </tr>\n",
       "    <tr>\n",
       "      <th>4</th>\n",
       "      <td>44</td>\n",
       "      <td>52</td>\n",
       "      <td>69</td>\n",
       "      <td>55</td>\n",
       "      <td>71</td>\n",
       "      <td>59.032884</td>\n",
       "    </tr>\n",
       "  </tbody>\n",
       "</table>\n",
       "</div>"
      ],
      "text/plain": [
       "       year-1  year-2  year-3  year-4  year-5  credibility-premium\n",
       "risks                                                             \n",
       "1          48      53      42      50      59            52.660686\n",
       "2          64      71      64      73      70            67.365759\n",
       "3          85      54      76      65      90            71.940671\n",
       "4          44      52      69      55      71            59.032884"
      ]
     },
     "execution_count": 88,
     "metadata": {},
     "output_type": "execute_result"
    }
   ],
   "source": [
    "def EBCT1(claim_data):\n",
    "    # Generate a df with the claims\n",
    "    claim_data = np.array(claim_data) if(type(claim_data)==list)else(claim_data)\n",
    "    N, n = claim_data.shape\n",
    "    df = pd.DataFrame(claim_data, columns= [ f\"year-{i}\" for i in range(1, n + 1)])\n",
    "    df[\"risks\"] = [i for i in range(1, N + 1)]\n",
    "    df.set_index(\"risks\", inplace= True)\n",
    "\n",
    "    # dummy df for calculations\n",
    "    stats_df = pd.DataFrame()\n",
    "    stats_df[\"risks\"] = df.index\n",
    "    stats_df.set_index(\"risks\", inplace= True)\n",
    "\n",
    "    # mean and varince within each risk\n",
    "    claims =df[ [f\"year-{i}\" for i in range(1, 6)]].copy()\n",
    "    stats_df[\"risk-mean\"] = claims.apply(np.mean, axis=1)\n",
    "    stats_df[\"risk-var\"] = claims.apply(np.var, axis= 1, ddof= 1)\n",
    "\n",
    "    # average of the above mean and variance\n",
    "    X_bar = stats_df[\"risk-mean\"].mean()\n",
    "    expected_var = stats_df[\"risk-var\"].mean()\n",
    "\n",
    "\n",
    "    var_means = stats_df[\"risk-mean\"].var() - (1/n) * expected_var \n",
    "\n",
    "    # credibiliy factor\n",
    "    cred_factor = n/(n+ (expected_var/ var_means))\n",
    "    df[\"credibility-premium\"] = (cred_factor * stats_df[\"risk-mean\"]) + ((1 - cred_factor) * X_bar)\n",
    "    \n",
    "    return df\n",
    "claims = [ [48, 53, 42, 50, 59], \n",
    "            [64, 71, 64, 73, 70],\n",
    "            [85, 54, 76, 65, 90],\n",
    "            [44, 52, 69, 55, 71],\n",
    "            ]\n",
    "EBCT1(claims)"
   ]
  },
  {
   "cell_type": "code",
   "execution_count": 94,
   "metadata": {},
   "outputs": [
    {
     "data": {
      "text/plain": [
       "328767.12328767125"
      ]
     },
     "execution_count": 94,
     "metadata": {},
     "output_type": "execute_result"
    }
   ],
   "source": [
    "1000000/(365/12)\n"
   ]
  },
  {
   "cell_type": "code",
   "execution_count": 1,
   "metadata": {},
   "outputs": [],
   "source": [
    "import pandas as pd\n",
    "import numpy as np"
   ]
  },
  {
   "cell_type": "code",
   "execution_count": null,
   "metadata": {},
   "outputs": [],
   "source": [
    "claim_num = [\n",
    "    []\n",
    "]"
   ]
  }
 ],
 "metadata": {
  "interpreter": {
   "hash": "02a67ff5ecc90a095175fdab06f5452444ff028ade5ce6acbf4a9116e6ff7839"
  },
  "kernelspec": {
   "display_name": "Python 3.8.3 64-bit ('base': conda)",
   "language": "python",
   "name": "python3"
  },
  "language_info": {
   "codemirror_mode": {
    "name": "ipython",
    "version": 3
   },
   "file_extension": ".py",
   "mimetype": "text/x-python",
   "name": "python",
   "nbconvert_exporter": "python",
   "pygments_lexer": "ipython3",
   "version": "3.8.3"
  },
  "orig_nbformat": 4
 },
 "nbformat": 4,
 "nbformat_minor": 2
}
